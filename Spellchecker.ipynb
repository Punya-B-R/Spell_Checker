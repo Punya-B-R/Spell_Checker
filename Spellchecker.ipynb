{
 "cells": [
  {
   "cell_type": "markdown",
   "id": "dd4a9f2d",
   "metadata": {},
   "source": [
    "### Importing Modules"
   ]
  },
  {
   "cell_type": "code",
   "execution_count": null,
   "id": "d193a801",
   "metadata": {},
   "outputs": [],
   "source": [
    "import tkinter as tk\n",
    "from spellchecker import SpellChecker"
   ]
  },
  {
   "cell_type": "markdown",
   "id": "ed58d74e",
   "metadata": {},
   "source": [
    "### ToolCheck Class"
   ]
  },
  {
   "cell_type": "code",
   "execution_count": null,
   "id": "fc55e501",
   "metadata": {},
   "outputs": [],
   "source": [
    "class ToolCheck:\n",
    "    def __init__(self, widget):\n",
    "        self.widget = widget\n",
    "        self.tipwindow = None\n",
    "        self.x = self.y = 0\n",
    "\n",
    "    def show(self, text):\n",
    "        \"Display text in toolcheck window\"\n",
    "        if self.tipwindow or not text:\n",
    "            return\n",
    "        x, y, cx, cy = self.widget.bbox(\"insert\")\n",
    "        x += self.widget.winfo_rootx() + 27\n",
    "        y += cy + self.widget.winfo_rooty() + 27\n",
    "        self.tipwindow = tw = tk.Toplevel(self.widget)\n",
    "        tw.wm_overrideredirect(True)\n",
    "        tw.wm_geometry(f\"+{x}+{y}\")\n",
    "        label = tk.Label(tw, text=text, justify=tk.LEFT,\n",
    "                         background=\"#ffffe0\", relief=tk.SOLID, borderwidth=1,\n",
    "                         font=(\"arial\", \"9\", \"normal\"))\n",
    "        label.pack(ipadx=1)\n",
    "\n",
    "    def hide(self):\n",
    "        if self.tipwindow:\n",
    "            self.tipwindow.destroy()\n",
    "            self.tipwindow = None"
   ]
  },
  {
   "cell_type": "markdown",
   "id": "19eaa169",
   "metadata": {},
   "source": [
    "### Final Function"
   ]
  },
  {
   "cell_type": "code",
   "execution_count": null,
   "id": "5893a9a4",
   "metadata": {},
   "outputs": [],
   "source": [
    "def final(event=None):\n",
    "    content = a.get(\"1.0\", tk.END).strip()\n",
    "    words = content.split()\n",
    "    a.tag_remove(\"wrong\", \"1.0\", tk.END)\n",
    "    spell = SpellChecker()\n",
    "\n",
    "    index = \"1.0\"\n",
    "\n",
    "    for word in words:\n",
    "        if word[0].isupper():\n",
    "            continue\n",
    "\n",
    "        if spell.unknown([word]):\n",
    "            suggestions = spell.candidates(word)\n",
    "            end_index = a.index(f\"{index}+{len(word)}c\")\n",
    "            a.tag_add(\"wrong\", index, end_index)\n",
    "            a.tag_config(\"wrong\", foreground=\"red\", underline=1)\n",
    "            a.tag_bind(\"wrong\", \"<Enter>\", lambda e, s=f\"Suggestions: {', '.join(suggestions)}\": toolcheck.show(s))\n",
    "            a.tag_bind(\"wrong\", \"<Leave>\", lambda e: toolcheck.hide())\n",
    "        index = a.index(f\"{end_index}+1c\")"
   ]
  },
  {
   "cell_type": "markdown",
   "id": "d97984d9",
   "metadata": {},
   "source": [
    "### Main Setup"
   ]
  },
  {
   "cell_type": "code",
   "execution_count": 14,
   "id": "e330da17",
   "metadata": {},
   "outputs": [],
   "source": [
    "root = tk.Tk()\n",
    "root.title(\"Real-time Spell Checker\")\n",
    "a = tk.Text(root, wrap=\"word\", font=(\"Helvetica\", 16))\n",
    "a.pack(expand=True, fill=tk.BOTH, padx=10, pady=10)\n",
    "toolcheck = ToolCheck(a)\n",
    "a.bind(\"<space>\", final)\n",
    "root.mainloop()"
   ]
  }
 ],
 "metadata": {
  "kernelspec": {
   "display_name": "Python 3 (ipykernel)",
   "language": "python",
   "name": "python3"
  },
  "language_info": {
   "codemirror_mode": {
    "name": "ipython",
    "version": 3
   },
   "file_extension": ".py",
   "mimetype": "text/x-python",
   "name": "python",
   "nbconvert_exporter": "python",
   "pygments_lexer": "ipython3",
   "version": "3.11.5"
  }
 },
 "nbformat": 4,
 "nbformat_minor": 5
}
